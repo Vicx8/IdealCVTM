{
  "nbformat": 4,
  "nbformat_minor": 0,
  "metadata": {
    "colab": {
      "name": "Untitled3.ipynb",
      "provenance": [],
      "collapsed_sections": []
    },
    "kernelspec": {
      "name": "python3",
      "display_name": "Python 3"
    },
    "language_info": {
      "name": "python"
    }
  },
  "cells": [
    {
      "cell_type": "code",
      "execution_count": null,
      "metadata": {
        "colab": {
          "base_uri": "https://localhost:8080/"
        },
        "id": "p-F-mb-HCWjy",
        "outputId": "7c62e1c8-7624-4586-938e-b4862dd3e29a"
      },
      "outputs": [
        {
          "output_type": "stream",
          "name": "stdout",
          "text": [
            "skywalkerX: 9\n",
            "skywalkerY: 7\n",
            "reyX: 7\n",
            "reyY: 6\n",
            "[1, 0]\n",
            "['SE']\n"
          ]
        }
      ],
      "source": [
        "#Questao 1\n",
        "skywalkerX = int(input('skywalkerX: '))\n",
        "skywalkerY = int(input('skywalkerY: '))\n",
        "reyX = int(input('reyX: '))\n",
        "reyY = int(input('reyY: '))\n",
        "aux = []\n",
        "aux2 = []\n",
        "aux.append(skywalkerX - reyX)\n",
        "aux.append(skywalkerY - reyY)\n",
        "while(aux[0] != 0 and aux[1] != 0):\n",
        "  if(aux[0] > 0 and aux[1] == 0):\n",
        "    aux2.append('E')\n",
        "    aux[0] = aux[0] - 1\n",
        "  elif(aux[0] < 0 and aux[1] == 0):\n",
        "    aux2.append('W')\n",
        "    aux[0] = aux[0] + 1\n",
        "  elif(aux[0] == 0 and aux[1] > 0):\n",
        "    aux2.append('S')\n",
        "    aux[1] = aux[1] - 1\n",
        "  elif(aux[0] == 0 and aux[1] < 0):\n",
        "    aux2.append('N')\n",
        "    aux[1] = aux[1] + 1\n",
        "  elif (aux[0] < 0 and aux[1] < 0):\n",
        "    aux2.append('NW')\n",
        "    aux[0] = aux[0] + 1\n",
        "    aux[1] = aux[1] + 1\n",
        "  elif (aux[0] < 0 and aux[1] > 0):\n",
        "    aux2.append('SW')\n",
        "    aux[0] = aux[0] + 1\n",
        "    aux[1] = aux[1] - 1\n",
        "  elif (aux[0] > 0 and aux[1] < 0):\n",
        "    aux2.append('NE')\n",
        "    aux[0] = aux[0] - 1\n",
        "    aux[1] = aux[1] + 1\n",
        "  elif (aux[0] > 0 and aux[1] > 0):\n",
        "    aux2.append('SE')\n",
        "    aux[0] = aux[0] - 1\n",
        "    aux[1] = aux[1] - 1\n",
        "print(aux)\n",
        "print(aux2)\n"
      ]
    },
    {
      "cell_type": "code",
      "source": [
        "#Questao 2\n",
        "N = int(input())\n",
        "\n",
        "\n",
        "\n",
        "def intbin(N):\n",
        "  if (N<=1):\n",
        "    return 0\n",
        "  aux = []\n",
        "  while(N!=1):\n",
        "    aux.append(N%2)\n",
        "    N = N//2\n",
        "  aux.append(1)\n",
        "  aux = list(reversed(aux))\n",
        "  k= 0\n",
        "  for i in range(len(aux)):\n",
        "    if(aux[i]==1):\n",
        "      while(aux[i+1]==0):\n",
        "        i=i+1\n",
        "        k=k+1\n",
        "      if[aux[i+1] == 1]:\n",
        "        return(k)\n",
        "      \n",
        "intbin(N)\n",
        "\n"
      ],
      "metadata": {
        "colab": {
          "base_uri": "https://localhost:8080/"
        },
        "id": "aHiPMFjmCthC",
        "outputId": "f64293d3-04a7-4d18-8923-9f8bf623bdb2"
      },
      "execution_count": null,
      "outputs": [
        {
          "name": "stdout",
          "output_type": "stream",
          "text": [
            "45\n"
          ]
        },
        {
          "output_type": "execute_result",
          "data": {
            "text/plain": [
              "[1, 0, 1, 1, 0, 1]"
            ]
          },
          "metadata": {},
          "execution_count": 67
        }
      ]
    },
    {
      "cell_type": "code",
      "source": [
        "#Questao 3\n",
        "with open('departamentos.txt','r') as arquivo:\n",
        "  departamentos = arquivo.read()\n",
        "with open('funcionarios.txt','r') as arquivo:\n",
        "  funcionarios = arquivo.read()\n",
        "with open('resultado.txt','r') as arquivo:\n",
        "  resultado = arquivo.read()\n"
      ],
      "metadata": {
        "colab": {
          "base_uri": "https://localhost:8080/"
        },
        "id": "nnoaIK6_JF9-",
        "outputId": "ee12ba0a-6cf0-4236-b1e5-f423f6d3b7e1"
      },
      "execution_count": null,
      "outputs": [
        {
          "output_type": "execute_result",
          "data": {
            "text/plain": [
              "1"
            ]
          },
          "metadata": {},
          "execution_count": 29
        }
      ]
    }
  ]
}